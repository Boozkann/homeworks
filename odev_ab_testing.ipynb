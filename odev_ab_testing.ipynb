{
 "cells": [
  {
   "cell_type": "code",
   "execution_count": 1,
   "id": "2ddd1828-2de7-4a22-9bdc-8ce0e61e5b49",
   "metadata": {},
   "outputs": [],
   "source": [
    "## Business Problem\n",
    "#### Digital advertising platforms try to optimize conversion ratios by presenting them different offerşng strategies.\n",
    "#### Short time ago, a new method was declared which is named \"average bidding\" as an alternative to the \"maximum bidding\" model\n",
    "\n",
    "##### One of our clients veridunya.com decided to test this new model, whether it is more efiicient or not.\n",
    "#####"
   ]
  },
  {
   "cell_type": "code",
   "execution_count": null,
   "id": "b742e7ed-e472-4c26-8e4a-3c9f9136ee12",
   "metadata": {},
   "outputs": [],
   "source": [
    "## Dataset Explanations\n",
    "###"
   ]
  },
  {
   "cell_type": "code",
   "execution_count": 71,
   "id": "19be24ba-9508-4a84-9ec5-f42baee625c8",
   "metadata": {},
   "outputs": [],
   "source": [
    "import itertools\n",
    "import numpy as np\n",
    "import pandas as pd\n",
    "import matplotlib.pyplot as plt\n",
    "import seaborn as sns\n",
    "# !pip install statsmodels\n",
    "import statsmodels.stats.api as sms\n",
    "from scipy.stats import ttest_1samp, shapiro, levene, ttest_ind, mannwhitneyu, \\\n",
    "    pearsonr, spearmanr, kendalltau, f_oneway, kruskal\n",
    "from statsmodels.stats.proportion import proportions_ztest\n",
    "\n",
    "pd.set_option('display.max_columns', None)\n",
    "pd.set_option('display.max_rows', 10)\n",
    "pd.set_option('display.float_format', lambda x: '%.5f' % x)"
   ]
  },
  {
   "cell_type": "code",
   "execution_count": 11,
   "id": "49951b6a-1ab3-43cb-afde-0e7c5618b7fa",
   "metadata": {},
   "outputs": [],
   "source": [
    "import openpyxl"
   ]
  },
  {
   "cell_type": "code",
   "execution_count": 13,
   "id": "55559e12-2ecd-40b1-bf67-ad573aa97fe8",
   "metadata": {},
   "outputs": [],
   "source": [
    "file_path = r\"C:\\Users\\ozkan\\OneDrive\\Desktop\\GIT\\odev\\ab_test_data.xlsx\""
   ]
  },
  {
   "cell_type": "code",
   "execution_count": 39,
   "id": "c1b25fdb-f3d6-4a87-a32c-c4617f803db5",
   "metadata": {},
   "outputs": [],
   "source": [
    "df1 = pd.read_excel(file_path, sheet_name = \"Control Group\")"
   ]
  },
  {
   "cell_type": "code",
   "execution_count": 41,
   "id": "6e9a9d06-0ab4-4a42-b3fb-9f2f2856d84c",
   "metadata": {},
   "outputs": [],
   "source": [
    "df2 = pd.read_excel(file_path, sheet_name = \"Test Group\")"
   ]
  },
  {
   "cell_type": "code",
   "execution_count": 25,
   "id": "0f24dd7e-f0d7-4e63-9f77-fd4f20791953",
   "metadata": {},
   "outputs": [
    {
     "data": {
      "text/html": [
       "<div>\n",
       "<style scoped>\n",
       "    .dataframe tbody tr th:only-of-type {\n",
       "        vertical-align: middle;\n",
       "    }\n",
       "\n",
       "    .dataframe tbody tr th {\n",
       "        vertical-align: top;\n",
       "    }\n",
       "\n",
       "    .dataframe thead th {\n",
       "        text-align: right;\n",
       "    }\n",
       "</style>\n",
       "<table border=\"1\" class=\"dataframe\">\n",
       "  <thead>\n",
       "    <tr style=\"text-align: right;\">\n",
       "      <th></th>\n",
       "      <th>count</th>\n",
       "      <th>mean</th>\n",
       "      <th>std</th>\n",
       "      <th>min</th>\n",
       "      <th>25%</th>\n",
       "      <th>50%</th>\n",
       "      <th>75%</th>\n",
       "      <th>max</th>\n",
       "    </tr>\n",
       "  </thead>\n",
       "  <tbody>\n",
       "    <tr>\n",
       "      <th>Impression</th>\n",
       "      <td>40.00000</td>\n",
       "      <td>101711.44907</td>\n",
       "      <td>20302.15786</td>\n",
       "      <td>45475.94296</td>\n",
       "      <td>85726.69035</td>\n",
       "      <td>99790.70108</td>\n",
       "      <td>115212.81654</td>\n",
       "      <td>147539.33633</td>\n",
       "    </tr>\n",
       "    <tr>\n",
       "      <th>Click</th>\n",
       "      <td>40.00000</td>\n",
       "      <td>5100.65737</td>\n",
       "      <td>1329.98550</td>\n",
       "      <td>2189.75316</td>\n",
       "      <td>4124.30413</td>\n",
       "      <td>5001.22060</td>\n",
       "      <td>5923.80360</td>\n",
       "      <td>7959.12507</td>\n",
       "    </tr>\n",
       "    <tr>\n",
       "      <th>Purchase</th>\n",
       "      <td>40.00000</td>\n",
       "      <td>550.89406</td>\n",
       "      <td>134.10820</td>\n",
       "      <td>267.02894</td>\n",
       "      <td>470.09553</td>\n",
       "      <td>531.20631</td>\n",
       "      <td>637.95709</td>\n",
       "      <td>801.79502</td>\n",
       "    </tr>\n",
       "    <tr>\n",
       "      <th>Earning</th>\n",
       "      <td>40.00000</td>\n",
       "      <td>1908.56830</td>\n",
       "      <td>302.91778</td>\n",
       "      <td>1253.98952</td>\n",
       "      <td>1685.84720</td>\n",
       "      <td>1975.16052</td>\n",
       "      <td>2119.80278</td>\n",
       "      <td>2497.29522</td>\n",
       "    </tr>\n",
       "  </tbody>\n",
       "</table>\n",
       "</div>"
      ],
      "text/plain": [
       "              count         mean         std         min         25%  \\\n",
       "Impression 40.00000 101711.44907 20302.15786 45475.94296 85726.69035   \n",
       "Click      40.00000   5100.65737  1329.98550  2189.75316  4124.30413   \n",
       "Purchase   40.00000    550.89406   134.10820   267.02894   470.09553   \n",
       "Earning    40.00000   1908.56830   302.91778  1253.98952  1685.84720   \n",
       "\n",
       "                   50%          75%          max  \n",
       "Impression 99790.70108 115212.81654 147539.33633  \n",
       "Click       5001.22060   5923.80360   7959.12507  \n",
       "Purchase     531.20631    637.95709    801.79502  \n",
       "Earning     1975.16052   2119.80278   2497.29522  "
      ]
     },
     "execution_count": 25,
     "metadata": {},
     "output_type": "execute_result"
    }
   ],
   "source": [
    "##### Control Group - df1 - Basic Statistics\n",
    "\n",
    "df1.describe().T\n",
    "# Purchase için ortalama 550, std 134 (yüksek), max-min aralığı da oldukça geniş denebilir"
   ]
  },
  {
   "cell_type": "code",
   "execution_count": 69,
   "id": "5701cb47-d0f8-437b-82aa-9bb795c186cd",
   "metadata": {},
   "outputs": [],
   "source": [
    "df_conf = df1.describe().T\n",
    "df_conf[\"conf_interv\"] = df_conf.apply(lambda row: (row[\"mean\"] - 1.96 * row[\"std\"], row[\"mean\"] + 1.96 * row[\"std\"]), axis=1)\n",
    "## %95 güven aralığı için Z dağılım skoru olan 1.96 katsayısını kullandık."
   ]
  },
  {
   "cell_type": "code",
   "execution_count": 65,
   "id": "3f8bf9f5-c1f5-499f-a83e-a689103dc5e1",
   "metadata": {},
   "outputs": [
    {
     "data": {
      "text/html": [
       "<div>\n",
       "<style scoped>\n",
       "    .dataframe tbody tr th:only-of-type {\n",
       "        vertical-align: middle;\n",
       "    }\n",
       "\n",
       "    .dataframe tbody tr th {\n",
       "        vertical-align: top;\n",
       "    }\n",
       "\n",
       "    .dataframe thead th {\n",
       "        text-align: right;\n",
       "    }\n",
       "</style>\n",
       "<table border=\"1\" class=\"dataframe\">\n",
       "  <thead>\n",
       "    <tr style=\"text-align: right;\">\n",
       "      <th></th>\n",
       "      <th>count</th>\n",
       "      <th>mean</th>\n",
       "      <th>std</th>\n",
       "      <th>min</th>\n",
       "      <th>25%</th>\n",
       "      <th>50%</th>\n",
       "      <th>75%</th>\n",
       "      <th>max</th>\n",
       "      <th>conf_interv</th>\n",
       "    </tr>\n",
       "  </thead>\n",
       "  <tbody>\n",
       "    <tr>\n",
       "      <th>Impression</th>\n",
       "      <td>40.00000</td>\n",
       "      <td>101711.44907</td>\n",
       "      <td>20302.15786</td>\n",
       "      <td>45475.94296</td>\n",
       "      <td>85726.69035</td>\n",
       "      <td>99790.70108</td>\n",
       "      <td>115212.81654</td>\n",
       "      <td>147539.33633</td>\n",
       "      <td>(61919.21965844013, 141503.67847695443)</td>\n",
       "    </tr>\n",
       "    <tr>\n",
       "      <th>Click</th>\n",
       "      <td>40.00000</td>\n",
       "      <td>5100.65737</td>\n",
       "      <td>1329.98550</td>\n",
       "      <td>2189.75316</td>\n",
       "      <td>4124.30413</td>\n",
       "      <td>5001.22060</td>\n",
       "      <td>5923.80360</td>\n",
       "      <td>7959.12507</td>\n",
       "      <td>(2493.8857959837514, 7707.428949170806)</td>\n",
       "    </tr>\n",
       "    <tr>\n",
       "      <th>Purchase</th>\n",
       "      <td>40.00000</td>\n",
       "      <td>550.89406</td>\n",
       "      <td>134.10820</td>\n",
       "      <td>267.02894</td>\n",
       "      <td>470.09553</td>\n",
       "      <td>531.20631</td>\n",
       "      <td>637.95709</td>\n",
       "      <td>801.79502</td>\n",
       "      <td>(288.0419842884464, 813.7461332520168)</td>\n",
       "    </tr>\n",
       "    <tr>\n",
       "      <th>Earning</th>\n",
       "      <td>40.00000</td>\n",
       "      <td>1908.56830</td>\n",
       "      <td>302.91778</td>\n",
       "      <td>1253.98952</td>\n",
       "      <td>1685.84720</td>\n",
       "      <td>1975.16052</td>\n",
       "      <td>2119.80278</td>\n",
       "      <td>2497.29522</td>\n",
       "      <td>(1314.8494451953893, 2502.2871544101085)</td>\n",
       "    </tr>\n",
       "  </tbody>\n",
       "</table>\n",
       "</div>"
      ],
      "text/plain": [
       "              count         mean         std         min         25%  \\\n",
       "Impression 40.00000 101711.44907 20302.15786 45475.94296 85726.69035   \n",
       "Click      40.00000   5100.65737  1329.98550  2189.75316  4124.30413   \n",
       "Purchase   40.00000    550.89406   134.10820   267.02894   470.09553   \n",
       "Earning    40.00000   1908.56830   302.91778  1253.98952  1685.84720   \n",
       "\n",
       "                   50%          75%          max  \\\n",
       "Impression 99790.70108 115212.81654 147539.33633   \n",
       "Click       5001.22060   5923.80360   7959.12507   \n",
       "Purchase     531.20631    637.95709    801.79502   \n",
       "Earning     1975.16052   2119.80278   2497.29522   \n",
       "\n",
       "                                         conf_interv  \n",
       "Impression   (61919.21965844013, 141503.67847695443)  \n",
       "Click        (2493.8857959837514, 7707.428949170806)  \n",
       "Purchase      (288.0419842884464, 813.7461332520168)  \n",
       "Earning     (1314.8494451953893, 2502.2871544101085)  "
      ]
     },
     "execution_count": 65,
     "metadata": {},
     "output_type": "execute_result"
    }
   ],
   "source": [
    "df_conf"
   ]
  },
  {
   "cell_type": "code",
   "execution_count": 71,
   "id": "ef3affae-3686-425a-994f-834a10faabf8",
   "metadata": {},
   "outputs": [
    {
     "data": {
      "text/plain": [
       "(508.00417525045305, 593.7839422900101)"
      ]
     },
     "execution_count": 71,
     "metadata": {},
     "output_type": "execute_result"
    }
   ],
   "source": [
    "# T-Dağılımı %95 güven aralığına göre hesaplama yaparken yüksek standart sapma ve max-min aralığının yüksek olması güvenilirliği azaltır.\n",
    "sms.DescrStatsW(df1[\"Purchase\"]).tconfint_mean()"
   ]
  },
  {
   "cell_type": "code",
   "execution_count": 73,
   "id": "eb10fe5b-c487-4e13-b973-855cc27c8dee",
   "metadata": {},
   "outputs": [
    {
     "data": {
      "text/html": [
       "<div>\n",
       "<style scoped>\n",
       "    .dataframe tbody tr th:only-of-type {\n",
       "        vertical-align: middle;\n",
       "    }\n",
       "\n",
       "    .dataframe tbody tr th {\n",
       "        vertical-align: top;\n",
       "    }\n",
       "\n",
       "    .dataframe thead th {\n",
       "        text-align: right;\n",
       "    }\n",
       "</style>\n",
       "<table border=\"1\" class=\"dataframe\">\n",
       "  <thead>\n",
       "    <tr style=\"text-align: right;\">\n",
       "      <th></th>\n",
       "      <th>Impression</th>\n",
       "      <th>Click</th>\n",
       "      <th>Purchase</th>\n",
       "      <th>Earning</th>\n",
       "    </tr>\n",
       "  </thead>\n",
       "  <tbody>\n",
       "    <tr>\n",
       "      <th>0</th>\n",
       "      <td>82529.45927</td>\n",
       "      <td>6090.07732</td>\n",
       "      <td>665.21125</td>\n",
       "      <td>2311.27714</td>\n",
       "    </tr>\n",
       "    <tr>\n",
       "      <th>1</th>\n",
       "      <td>98050.45193</td>\n",
       "      <td>3382.86179</td>\n",
       "      <td>315.08489</td>\n",
       "      <td>1742.80686</td>\n",
       "    </tr>\n",
       "    <tr>\n",
       "      <th>2</th>\n",
       "      <td>82696.02355</td>\n",
       "      <td>4167.96575</td>\n",
       "      <td>458.08374</td>\n",
       "      <td>1797.82745</td>\n",
       "    </tr>\n",
       "    <tr>\n",
       "      <th>3</th>\n",
       "      <td>109914.40040</td>\n",
       "      <td>4910.88224</td>\n",
       "      <td>487.09077</td>\n",
       "      <td>1696.22918</td>\n",
       "    </tr>\n",
       "    <tr>\n",
       "      <th>4</th>\n",
       "      <td>108457.76263</td>\n",
       "      <td>5987.65581</td>\n",
       "      <td>441.03405</td>\n",
       "      <td>1543.72018</td>\n",
       "    </tr>\n",
       "  </tbody>\n",
       "</table>\n",
       "</div>"
      ],
      "text/plain": [
       "    Impression      Click  Purchase    Earning\n",
       "0  82529.45927 6090.07732 665.21125 2311.27714\n",
       "1  98050.45193 3382.86179 315.08489 1742.80686\n",
       "2  82696.02355 4167.96575 458.08374 1797.82745\n",
       "3 109914.40040 4910.88224 487.09077 1696.22918\n",
       "4 108457.76263 5987.65581 441.03405 1543.72018"
      ]
     },
     "execution_count": 73,
     "metadata": {},
     "output_type": "execute_result"
    }
   ],
   "source": [
    "df1.head()"
   ]
  },
  {
   "cell_type": "code",
   "execution_count": 81,
   "id": "1099e920-9297-4df4-9aac-5e232a209698",
   "metadata": {},
   "outputs": [
    {
     "data": {
      "image/png": "[encoded data removed]",
      "text/plain": [
       "<Figure size 640x480 with 1 Axes>"
      ]
     },
     "metadata": {},
     "output_type": "display_data"
    }
   ],
   "source": [
    "# -0,36 negatif korelasyon bulunmakta. \n",
    "df1.plot.scatter(\"Click\", \"Earning\")\n",
    "plt.show()"
   ]
  },
  {
   "cell_type": "code",
   "execution_count": 83,
   "id": "5328aba4-d132-4bbd-bc28-2c6ab23327a0",
   "metadata": {},
   "outputs": [
    {
     "data": {
      "text/plain": [
       "-0.3566898131694894"
      ]
     },
     "execution_count": 83,
     "metadata": {},
     "output_type": "execute_result"
    }
   ],
   "source": [
    "df1[\"Click\"].corr(df1[\"Earning\"])"
   ]
  },
  {
   "cell_type": "code",
   "execution_count": 1,
   "id": "a30f9f06-5402-4c9e-ac3d-d445544a045e",
   "metadata": {},
   "outputs": [],
   "source": [
    "### df2 veri seti ###### Test Group ####"
   ]
  },
  {
   "cell_type": "code",
   "execution_count": 7,
   "id": "8cded9b3-e901-4754-9951-d64ac5b73bda",
   "metadata": {},
   "outputs": [],
   "source": [
    "import pandas as pd"
   ]
  },
  {
   "cell_type": "code",
   "execution_count": 9,
   "id": "1ec4eb4e-1423-439e-9c89-1cc67f2c71d0",
   "metadata": {},
   "outputs": [],
   "source": [
    "file_path = r\"C:\\Users\\ozkan\\OneDrive\\Desktop\\GIT\\odev\\ab_test_data.xlsx\""
   ]
  },
  {
   "cell_type": "code",
   "execution_count": 11,
   "id": "925e0704-a7a9-493d-981b-36fcd0eda95e",
   "metadata": {},
   "outputs": [],
   "source": [
    "df2 = pd.read_excel(file_path, sheet_name = \"Test Group\")"
   ]
  },
  {
   "cell_type": "code",
   "execution_count": 13,
   "id": "977f8e0e-8e01-409c-83df-68074d8b8614",
   "metadata": {},
   "outputs": [
    {
     "data": {
      "text/html": [
       "<div>\n",
       "<style scoped>\n",
       "    .dataframe tbody tr th:only-of-type {\n",
       "        vertical-align: middle;\n",
       "    }\n",
       "\n",
       "    .dataframe tbody tr th {\n",
       "        vertical-align: top;\n",
       "    }\n",
       "\n",
       "    .dataframe thead th {\n",
       "        text-align: right;\n",
       "    }\n",
       "</style>\n",
       "<table border=\"1\" class=\"dataframe\">\n",
       "  <thead>\n",
       "    <tr style=\"text-align: right;\">\n",
       "      <th></th>\n",
       "      <th>count</th>\n",
       "      <th>mean</th>\n",
       "      <th>std</th>\n",
       "      <th>min</th>\n",
       "      <th>25%</th>\n",
       "      <th>50%</th>\n",
       "      <th>75%</th>\n",
       "      <th>max</th>\n",
       "    </tr>\n",
       "  </thead>\n",
       "  <tbody>\n",
       "    <tr>\n",
       "      <th>Impression</th>\n",
       "      <td>40.0</td>\n",
       "      <td>120512.411758</td>\n",
       "      <td>18807.448712</td>\n",
       "      <td>79033.834921</td>\n",
       "      <td>112691.970770</td>\n",
       "      <td>119291.300775</td>\n",
       "      <td>132050.578933</td>\n",
       "      <td>158605.920483</td>\n",
       "    </tr>\n",
       "    <tr>\n",
       "      <th>Click</th>\n",
       "      <td>40.0</td>\n",
       "      <td>3967.549761</td>\n",
       "      <td>923.095073</td>\n",
       "      <td>1836.629861</td>\n",
       "      <td>3376.819024</td>\n",
       "      <td>3931.359804</td>\n",
       "      <td>4660.497911</td>\n",
       "      <td>6019.695079</td>\n",
       "    </tr>\n",
       "    <tr>\n",
       "      <th>Purchase</th>\n",
       "      <td>40.0</td>\n",
       "      <td>582.106097</td>\n",
       "      <td>161.152513</td>\n",
       "      <td>311.629515</td>\n",
       "      <td>444.626828</td>\n",
       "      <td>551.355732</td>\n",
       "      <td>699.862360</td>\n",
       "      <td>889.910460</td>\n",
       "    </tr>\n",
       "    <tr>\n",
       "      <th>Earning</th>\n",
       "      <td>40.0</td>\n",
       "      <td>2514.890733</td>\n",
       "      <td>282.730852</td>\n",
       "      <td>1939.611243</td>\n",
       "      <td>2280.537426</td>\n",
       "      <td>2544.666107</td>\n",
       "      <td>2761.545405</td>\n",
       "      <td>3171.489708</td>\n",
       "    </tr>\n",
       "  </tbody>\n",
       "</table>\n",
       "</div>"
      ],
      "text/plain": [
       "            count           mean           std           min            25%  \\\n",
       "Impression   40.0  120512.411758  18807.448712  79033.834921  112691.970770   \n",
       "Click        40.0    3967.549761    923.095073   1836.629861    3376.819024   \n",
       "Purchase     40.0     582.106097    161.152513    311.629515     444.626828   \n",
       "Earning      40.0    2514.890733    282.730852   1939.611243    2280.537426   \n",
       "\n",
       "                      50%            75%            max  \n",
       "Impression  119291.300775  132050.578933  158605.920483  \n",
       "Click         3931.359804    4660.497911    6019.695079  \n",
       "Purchase       551.355732     699.862360     889.910460  \n",
       "Earning       2544.666107    2761.545405    3171.489708  "
      ]
     },
     "execution_count": 13,
     "metadata": {},
     "output_type": "execute_result"
    }
   ],
   "source": [
    "df2.describe().T"
   ]
  },
  {
   "cell_type": "code",
   "execution_count": 31,
   "id": "b54abe93-7021-43ff-9d3d-8df0a13e36fb",
   "metadata": {},
   "outputs": [
    {
     "data": {
      "text/plain": [
       "(530.5670224874668, 633.6451708094685)"
      ]
     },
     "execution_count": 31,
     "metadata": {},
     "output_type": "execute_result"
    }
   ],
   "source": [
    "sms.DescrStatsW(df2[\"Purchase\"]).tconfint_mean()"
   ]
  },
  {
   "cell_type": "code",
   "execution_count": 21,
   "id": "7b082a8a-27fe-42d2-8111-9fd8f2edde61",
   "metadata": {},
   "outputs": [
    {
     "data": {
      "image/png": "[encoded data removed]",
      "text/plain": [
       "<Figure size 640x480 with 1 Axes>"
      ]
     },
     "metadata": {},
     "output_type": "display_data"
    }
   ],
   "source": [
    "df2.plot.scatter(\"Click\", \"Earning\")\n",
    "plt.show()\n"
   ]
  },
  {
   "cell_type": "code",
   "execution_count": 29,
   "id": "7172a03d-7226-4265-b150-f9a88edc537c",
   "metadata": {},
   "outputs": [
    {
     "data": {
      "text/plain": [
       "0.1977789201556498"
      ]
     },
     "execution_count": 29,
     "metadata": {},
     "output_type": "execute_result"
    }
   ],
   "source": [
    "# Test Grubu'nda korelasyon artı yönde, düşük de olsa\n",
    "df2[\"Click\"].corr(df2[\"Earning\"])"
   ]
  },
  {
   "cell_type": "code",
   "execution_count": 33,
   "id": "666380f1-6e97-4042-ab18-953b64c3dc93",
   "metadata": {},
   "outputs": [],
   "source": [
    "## Gruplar arasında ciddi bir farklılık bulunmamaktadır. "
   ]
  },
  {
   "cell_type": "code",
   "execution_count": 35,
   "id": "69ebb8ea-75eb-4a6d-aa87-d8ab651ff107",
   "metadata": {},
   "outputs": [],
   "source": [
    "## Grupların concat metdodu ile birleştirilmesi"
   ]
  },
  {
   "cell_type": "code",
   "execution_count": 43,
   "id": "f3a733d6-4ba7-4431-b2a0-81d97199b8a3",
   "metadata": {},
   "outputs": [],
   "source": [
    "df_combined = pd.concat([df1, df2], axis=0)"
   ]
  },
  {
   "cell_type": "code",
   "execution_count": 45,
   "id": "ac29c937-f053-484a-b129-642eda7c4fe5",
   "metadata": {},
   "outputs": [
    {
     "data": {
      "text/html": [
       "<div>\n",
       "<style scoped>\n",
       "    .dataframe tbody tr th:only-of-type {\n",
       "        vertical-align: middle;\n",
       "    }\n",
       "\n",
       "    .dataframe tbody tr th {\n",
       "        vertical-align: top;\n",
       "    }\n",
       "\n",
       "    .dataframe thead th {\n",
       "        text-align: right;\n",
       "    }\n",
       "</style>\n",
       "<table border=\"1\" class=\"dataframe\">\n",
       "  <thead>\n",
       "    <tr style=\"text-align: right;\">\n",
       "      <th></th>\n",
       "      <th>Impression</th>\n",
       "      <th>Click</th>\n",
       "      <th>Purchase</th>\n",
       "      <th>Earning</th>\n",
       "    </tr>\n",
       "  </thead>\n",
       "  <tbody>\n",
       "    <tr>\n",
       "      <th>0</th>\n",
       "      <td>82529.45927</td>\n",
       "      <td>6090.07732</td>\n",
       "      <td>665.21125</td>\n",
       "      <td>2311.27714</td>\n",
       "    </tr>\n",
       "    <tr>\n",
       "      <th>1</th>\n",
       "      <td>98050.45193</td>\n",
       "      <td>3382.86179</td>\n",
       "      <td>315.08489</td>\n",
       "      <td>1742.80686</td>\n",
       "    </tr>\n",
       "    <tr>\n",
       "      <th>2</th>\n",
       "      <td>82696.02355</td>\n",
       "      <td>4167.96575</td>\n",
       "      <td>458.08374</td>\n",
       "      <td>1797.82745</td>\n",
       "    </tr>\n",
       "    <tr>\n",
       "      <th>3</th>\n",
       "      <td>109914.40040</td>\n",
       "      <td>4910.88224</td>\n",
       "      <td>487.09077</td>\n",
       "      <td>1696.22918</td>\n",
       "    </tr>\n",
       "    <tr>\n",
       "      <th>4</th>\n",
       "      <td>108457.76263</td>\n",
       "      <td>5987.65581</td>\n",
       "      <td>441.03405</td>\n",
       "      <td>1543.72018</td>\n",
       "    </tr>\n",
       "    <tr>\n",
       "      <th>...</th>\n",
       "      <td>...</td>\n",
       "      <td>...</td>\n",
       "      <td>...</td>\n",
       "      <td>...</td>\n",
       "    </tr>\n",
       "    <tr>\n",
       "      <th>35</th>\n",
       "      <td>79234.91193</td>\n",
       "      <td>6002.21358</td>\n",
       "      <td>382.04712</td>\n",
       "      <td>2277.86398</td>\n",
       "    </tr>\n",
       "    <tr>\n",
       "      <th>36</th>\n",
       "      <td>130702.23941</td>\n",
       "      <td>3626.32007</td>\n",
       "      <td>449.82459</td>\n",
       "      <td>2530.84133</td>\n",
       "    </tr>\n",
       "    <tr>\n",
       "      <th>37</th>\n",
       "      <td>116481.87337</td>\n",
       "      <td>4702.78247</td>\n",
       "      <td>472.45373</td>\n",
       "      <td>2597.91763</td>\n",
       "    </tr>\n",
       "    <tr>\n",
       "      <th>38</th>\n",
       "      <td>79033.83492</td>\n",
       "      <td>4495.42818</td>\n",
       "      <td>425.35910</td>\n",
       "      <td>2595.85788</td>\n",
       "    </tr>\n",
       "    <tr>\n",
       "      <th>39</th>\n",
       "      <td>102257.45409</td>\n",
       "      <td>4800.06832</td>\n",
       "      <td>521.31073</td>\n",
       "      <td>2967.51839</td>\n",
       "    </tr>\n",
       "  </tbody>\n",
       "</table>\n",
       "<p>80 rows × 4 columns</p>\n",
       "</div>"
      ],
      "text/plain": [
       "     Impression      Click  Purchase    Earning\n",
       "0   82529.45927 6090.07732 665.21125 2311.27714\n",
       "1   98050.45193 3382.86179 315.08489 1742.80686\n",
       "2   82696.02355 4167.96575 458.08374 1797.82745\n",
       "3  109914.40040 4910.88224 487.09077 1696.22918\n",
       "4  108457.76263 5987.65581 441.03405 1543.72018\n",
       "..          ...        ...       ...        ...\n",
       "35  79234.91193 6002.21358 382.04712 2277.86398\n",
       "36 130702.23941 3626.32007 449.82459 2530.84133\n",
       "37 116481.87337 4702.78247 472.45373 2597.91763\n",
       "38  79033.83492 4495.42818 425.35910 2595.85788\n",
       "39 102257.45409 4800.06832 521.31073 2967.51839\n",
       "\n",
       "[80 rows x 4 columns]"
      ]
     },
     "execution_count": 45,
     "metadata": {},
     "output_type": "execute_result"
    }
   ],
   "source": [
    "df_combined"
   ]
  },
  {
   "cell_type": "code",
   "execution_count": 47,
   "id": "0b6aa245-2206-455c-a080-064240fe7556",
   "metadata": {},
   "outputs": [
    {
     "data": {
      "text/html": [
       "<div>\n",
       "<style scoped>\n",
       "    .dataframe tbody tr th:only-of-type {\n",
       "        vertical-align: middle;\n",
       "    }\n",
       "\n",
       "    .dataframe tbody tr th {\n",
       "        vertical-align: top;\n",
       "    }\n",
       "\n",
       "    .dataframe thead th {\n",
       "        text-align: right;\n",
       "    }\n",
       "</style>\n",
       "<table border=\"1\" class=\"dataframe\">\n",
       "  <thead>\n",
       "    <tr style=\"text-align: right;\">\n",
       "      <th></th>\n",
       "      <th>count</th>\n",
       "      <th>mean</th>\n",
       "      <th>std</th>\n",
       "      <th>min</th>\n",
       "      <th>25%</th>\n",
       "      <th>50%</th>\n",
       "      <th>75%</th>\n",
       "      <th>max</th>\n",
       "    </tr>\n",
       "  </thead>\n",
       "  <tbody>\n",
       "    <tr>\n",
       "      <th>Impression</th>\n",
       "      <td>80.00000</td>\n",
       "      <td>111111.93041</td>\n",
       "      <td>21623.80775</td>\n",
       "      <td>45475.94296</td>\n",
       "      <td>95063.86063</td>\n",
       "      <td>114037.03500</td>\n",
       "      <td>124138.65239</td>\n",
       "      <td>158605.92048</td>\n",
       "    </tr>\n",
       "    <tr>\n",
       "      <th>Click</th>\n",
       "      <td>80.00000</td>\n",
       "      <td>4534.10357</td>\n",
       "      <td>1272.37607</td>\n",
       "      <td>1836.62986</td>\n",
       "      <td>3632.89183</td>\n",
       "      <td>4321.60283</td>\n",
       "      <td>5272.61606</td>\n",
       "      <td>7959.12507</td>\n",
       "    </tr>\n",
       "    <tr>\n",
       "      <th>Purchase</th>\n",
       "      <td>80.00000</td>\n",
       "      <td>566.50008</td>\n",
       "      <td>148.14184</td>\n",
       "      <td>267.02894</td>\n",
       "      <td>458.13788</td>\n",
       "      <td>532.12508</td>\n",
       "      <td>679.55760</td>\n",
       "      <td>889.91046</td>\n",
       "    </tr>\n",
       "    <tr>\n",
       "      <th>Earning</th>\n",
       "      <td>80.00000</td>\n",
       "      <td>2211.72952</td>\n",
       "      <td>421.70058</td>\n",
       "      <td>1253.98952</td>\n",
       "      <td>1945.71316</td>\n",
       "      <td>2205.53626</td>\n",
       "      <td>2541.37752</td>\n",
       "      <td>3171.48971</td>\n",
       "    </tr>\n",
       "  </tbody>\n",
       "</table>\n",
       "</div>"
      ],
      "text/plain": [
       "              count         mean         std         min         25%  \\\n",
       "Impression 80.00000 111111.93041 21623.80775 45475.94296 95063.86063   \n",
       "Click      80.00000   4534.10357  1272.37607  1836.62986  3632.89183   \n",
       "Purchase   80.00000    566.50008   148.14184   267.02894   458.13788   \n",
       "Earning    80.00000   2211.72952   421.70058  1253.98952  1945.71316   \n",
       "\n",
       "                    50%          75%          max  \n",
       "Impression 114037.03500 124138.65239 158605.92048  \n",
       "Click        4321.60283   5272.61606   7959.12507  \n",
       "Purchase      532.12508    679.55760    889.91046  \n",
       "Earning      2205.53626   2541.37752   3171.48971  "
      ]
     },
     "execution_count": 47,
     "metadata": {},
     "output_type": "execute_result"
    }
   ],
   "source": [
    "df_combined.describe().T"
   ]
  },
  {
   "cell_type": "code",
   "execution_count": 49,
   "id": "acc7bcb6-2b4c-4c49-ad45-f93aa01f9de1",
   "metadata": {},
   "outputs": [
    {
     "data": {
      "text/plain": [
       "(533.5327261657591, 599.46742925294)"
      ]
     },
     "execution_count": 49,
     "metadata": {},
     "output_type": "execute_result"
    }
   ],
   "source": [
    "sms.DescrStatsW(df_combined[\"Purchase\"]).tconfint_mean()"
   ]
  },
  {
   "cell_type": "code",
   "execution_count": 53,
   "id": "aab90a86-8bd9-47a5-8f3d-9d6f4225c171",
   "metadata": {},
   "outputs": [
    {
     "data": {
      "image/png": "[encoded data removed]",
      "text/plain": [
       "<Figure size 640x480 with 1 Axes>"
      ]
     },
     "metadata": {},
     "output_type": "display_data"
    }
   ],
   "source": [
    "df_combined.plot.scatter(\"Click\", \"Earning\")\n",
    "plt.show()"
   ]
  },
  {
   "cell_type": "code",
   "execution_count": 55,
   "id": "dc8f9c40-dde4-4329-9261-03d7882e90ce",
   "metadata": {},
   "outputs": [
    {
     "data": {
      "text/plain": [
       "-0.4088821145697514"
      ]
     },
     "execution_count": 55,
     "metadata": {},
     "output_type": "execute_result"
    }
   ],
   "source": [
    "df_combined[\"Click\"].corr(df_combined[\"Earning\"])"
   ]
  },
  {
   "cell_type": "code",
   "execution_count": 57,
   "id": "fa31c523-c01c-4237-bc5d-a68296ef21a5",
   "metadata": {},
   "outputs": [],
   "source": [
    "## Dağılım verileri genel olarak birbirine yakın görünmektedir. Kombine korelasyon verisi ise 1'e yakınsasa da korelasyon bulunmamaktadır."
   ]
  },
  {
   "cell_type": "code",
   "execution_count": 59,
   "id": "cecf3407-883a-456a-a3b5-d9e7902a7e26",
   "metadata": {},
   "outputs": [],
   "source": [
    "##############################################################################"
   ]
  },
  {
   "cell_type": "code",
   "execution_count": 61,
   "id": "a0dfd4b3-dcf1-419d-9b5d-099eac5281da",
   "metadata": {},
   "outputs": [],
   "source": [
    "#####################################  A/B Testi  ############################"
   ]
  },
  {
   "cell_type": "code",
   "execution_count": 65,
   "id": "d6926b9e-e325-4963-ae0b-3026a80a0836",
   "metadata": {},
   "outputs": [],
   "source": [
    "##H0 \"Ortalama Teklif (Average Bidding) yöntemi, Maksimum Teklif (Maximum Bidding) yöntemiyle aynı satın alma ve gelir değerlerini üretir.\"\n",
    "#(İki grup arasında anlamlı bir fark yoktur.)\n",
    "\n",
    "\n",
    "##H1 \"\"Ortalama Teklif (Average Bidding) yöntemi, Maksimum Teklif (Maximum Bidding) yöntemine göre daha yüksek satın alma ve gelir üretir.\"\n",
    "#(İki grup arasında anlamlı bir fark vardır.)\n",
    "\n",
    "\n",
    "##İlk Olarak Shapiro -Wilk"
   ]
  },
  {
   "cell_type": "code",
   "execution_count": 75,
   "id": "69c91438-1c59-4783-beae-be759b0a4094",
   "metadata": {},
   "outputs": [
    {
     "name": "stdout",
     "output_type": "stream",
     "text": [
      "Test Stat = 0.9773, p-value = 0.5891\n"
     ]
    }
   ],
   "source": [
    "test_stat1, pvalue1 = shapiro(df1[\"Purchase\"])\n",
    "print('Test Stat = %.4f, p-value = %.4f' % (test_stat1, pvalue1))"
   ]
  },
  {
   "cell_type": "code",
   "execution_count": 77,
   "id": "319e4a58-8dda-4bf2-904f-e05d8588adde",
   "metadata": {},
   "outputs": [],
   "source": [
    "#P-value > 0.05 H0 reddedilemez ve veri normal dağılmaktadır."
   ]
  },
  {
   "cell_type": "code",
   "execution_count": 79,
   "id": "2d9c4354-bfc4-40a5-91c1-480b670a3e9e",
   "metadata": {},
   "outputs": [
    {
     "name": "stdout",
     "output_type": "stream",
     "text": [
      "Test Stat = 0.9589, p-value = 0.1541\n"
     ]
    }
   ],
   "source": [
    "test_stat2, pvalue2 = shapiro(df2[\"Purchase\"])\n",
    "print('Test Stat = %.4f, p-value = %.4f' % (test_stat2, pvalue2))"
   ]
  },
  {
   "cell_type": "code",
   "execution_count": 81,
   "id": "feda177b-816c-4a3b-afc3-42a11edfe13a",
   "metadata": {},
   "outputs": [],
   "source": [
    "# P-value > 0.05 H0 reddedilemez ve veri normal dağılmaktadır."
   ]
  },
  {
   "cell_type": "code",
   "execution_count": 83,
   "id": "5c9ce5ab-4ad6-4444-85b8-567419e2cf1c",
   "metadata": {},
   "outputs": [],
   "source": [
    "## 2 Grup da normal dağılıma uyuyor, T-Testi yapılabilir."
   ]
  },
  {
   "cell_type": "code",
   "execution_count": 85,
   "id": "57e019f9-c85f-4c8b-bbb4-b1581fd54ed2",
   "metadata": {},
   "outputs": [],
   "source": [
    "## T-Testi uygulayabilmek için iki grubun varyanslarının eşit olup olmadığını kontrol etmeliyiz. Levene Testi uygulamalıyız."
   ]
  },
  {
   "cell_type": "code",
   "execution_count": 87,
   "id": "a6ef6c0e-dc5e-42c3-86f0-a22805274c52",
   "metadata": {},
   "outputs": [
    {
     "name": "stdout",
     "output_type": "stream",
     "text": [
      "Levene Testi: Test İstatistiği = 2.6392694728747363, p-değeri = 0.10828588271874791\n"
     ]
    }
   ],
   "source": [
    "levene_test = levene(df1[\"Purchase\"], df2[\"Purchase\"])\n",
    "\n",
    "print(f\"Levene Testi: Test İstatistiği = {levene_test[0]}, p-değeri = {levene_test[1]}\")"
   ]
  },
  {
   "cell_type": "code",
   "execution_count": 91,
   "id": "274a8583-1e36-4d6d-bdc2-db7f50fa6680",
   "metadata": {},
   "outputs": [
    {
     "name": "stdout",
     "output_type": "stream",
     "text": [
      "Test Stat = 2.6393, p-value = 0.1083\n"
     ]
    }
   ],
   "source": [
    "test_stat, pvalue = levene(df1[\"Purchase\"], df2[\"Purchase\"])\n",
    "print('Test Stat = %.4f, p-value = %.4f' % (test_stat, pvalue))"
   ]
  },
  {
   "cell_type": "code",
   "execution_count": 95,
   "id": "d7a3a8c7-112d-426f-9451-1b7818ce751c",
   "metadata": {},
   "outputs": [],
   "source": [
    "## Levene Testine Göre;\n",
    "## P-value > 0,.05 H0 reddedilemez ve varyanslar homojendir.\n",
    "## Bu durumda T-testi uygulanır."
   ]
  },
  {
   "cell_type": "code",
   "execution_count": 104,
   "id": "c4f0b6df-f729-450e-b677-32b71698927a",
   "metadata": {},
   "outputs": [
    {
     "name": "stdout",
     "output_type": "stream",
     "text": [
      "T-Test Sonucu: Test İstatistiği = -0.9416, p-value = 0.3493\n"
     ]
    }
   ],
   "source": [
    "t_stat, p_value = ttest_ind(df1[\"Purchase\"], df2[\"Purchase\"], equal_var=(levene_pvalue > 0.05))\n",
    "\n",
    "print(f\"T-Test Sonucu: Test İstatistiği = {t_stat:.4f}, p-value = {p_value:.4f}\")"
   ]
  },
  {
   "cell_type": "code",
   "execution_count": null,
   "id": "10e1e215-0db2-44d5-8b53-8c6541dc03b3",
   "metadata": {},
   "outputs": [],
   "source": [
    "## P-value > 0.05 H0 reddedilemez yani istatiksel olarak anlamlı bir fark yoktur.\n",
    "## Ancak test statistics Negatif olması, kontrol grubunun (Maximum Bidding) ortalamasının \n",
    "## test grubundan (Average Bidding) biraz daha yüksek olduğunu gösterir."
   ]
  },
  {
   "cell_type": "code",
   "execution_count": 97,
   "id": "84c0c208-7f3f-4980-8123-784c8ef4adf1",
   "metadata": {},
   "outputs": [
    {
     "name": "stdout",
     "output_type": "stream",
     "text": [
      "Test Stat = 723.0000, p-value = 0.4617\n"
     ]
    }
   ],
   "source": [
    "test_stat, pvalue = mannwhitneyu(df1[\"Purchase\"], df2[\"Purchase\"])\n",
    "\n",
    "print('Test Stat = %.4f, p-value = %.4f' % (test_stat, pvalue))"
   ]
  },
  {
   "cell_type": "code",
   "execution_count": 116,
   "id": "ed05c33d-f379-43a0-940a-f81803f1ced1",
   "metadata": {},
   "outputs": [],
   "source": [
    "## Mann-Whitney U testine göre;\n",
    "## P-Value > 0.05 H0 reddedilemez ve iki grup arasında anlamlı bir fark yoktur."
   ]
  },
  {
   "cell_type": "code",
   "execution_count": null,
   "id": "251350bf-ff4d-411b-a1fa-b5317bc7ad5f",
   "metadata": {},
   "outputs": [],
   "source": [
    "## Alternatif Test ## Earning ############################################################"
   ]
  },
  {
   "cell_type": "code",
   "execution_count": 108,
   "id": "11ea8945-3c7d-4bec-a240-11d7619ef2a2",
   "metadata": {},
   "outputs": [
    {
     "data": {
      "image/png": "[encoded data removed]",
      "text/plain": [
       "<Figure size 640x480 with 1 Axes>"
      ]
     },
     "metadata": {},
     "output_type": "display_data"
    }
   ],
   "source": [
    "df_combined.plot.scatter(\"Purchase\", \"Earning\")\n",
    "plt.show()"
   ]
  },
  {
   "cell_type": "code",
   "execution_count": 118,
   "id": "a41532cc-e275-495b-80bd-df1ab5c50c1b",
   "metadata": {},
   "outputs": [
    {
     "data": {
      "text/plain": [
       "0.1334061725859247"
      ]
     },
     "execution_count": 118,
     "metadata": {},
     "output_type": "execute_result"
    }
   ],
   "source": [
    "df_combined[\"Purchase\"].corr(df_combined[\"Earning\"])"
   ]
  },
  {
   "cell_type": "code",
   "execution_count": 126,
   "id": "a4d18274-f2e8-49e9-a03d-c40f66e49323",
   "metadata": {},
   "outputs": [
    {
     "name": "stdout",
     "output_type": "stream",
     "text": [
      "Test Stat = 0.9756, p-value = 0.5306\n"
     ]
    }
   ],
   "source": [
    "test_stat, pvalue = shapiro(df1[\"Earning\"])\n",
    "print('Test Stat = %.4f, p-value = %.4f' % (test_stat, pvalue))"
   ]
  },
  {
   "cell_type": "code",
   "execution_count": 128,
   "id": "28fc974c-1dd4-49bd-b26b-63522e0ad7aa",
   "metadata": {},
   "outputs": [
    {
     "name": "stdout",
     "output_type": "stream",
     "text": [
      "Test Stat = 0.9780, p-value = 0.6163\n"
     ]
    }
   ],
   "source": [
    "test_stat, pvalue = shapiro(df2[\"Earning\"])\n",
    "print('Test Stat = %.4f, p-value = %.4f' % (test_stat, pvalue))"
   ]
  },
  {
   "cell_type": "code",
   "execution_count": 122,
   "id": "8a576415-676f-4e5e-a308-6b1fb7eeffcd",
   "metadata": {},
   "outputs": [
    {
     "name": "stdout",
     "output_type": "stream",
     "text": [
      "Levene Testi: Test İstatistiği = 0.35323781392537446, p-değeri = 0.5540060067717659\n"
     ]
    }
   ],
   "source": [
    "levene_test = levene(df1[\"Earning\"], df2[\"Earning\"])\n",
    "\n",
    "print(f\"Levene Testi: Test İstatistiği = {levene_test[0]}, p-değeri = {levene_test[1]}\")"
   ]
  },
  {
   "cell_type": "code",
   "execution_count": 130,
   "id": "859e7378-4a42-437c-9733-543e8fc60f4e",
   "metadata": {},
   "outputs": [
    {
     "name": "stdout",
     "output_type": "stream",
     "text": [
      "T-Test Sonucu: Test İstatistiği = -9.2545, p-value = 0.0000\n"
     ]
    }
   ],
   "source": [
    "t_stat, p_value = ttest_ind(df1[\"Earning\"], df2[\"Earning\"], equal_var=(levene_pvalue > 0.05))\n",
    "\n",
    "print(f\"T-Test Sonucu: Test İstatistiği = {t_stat:.4f}, p-value = {p_value:.4f}\")"
   ]
  },
  {
   "cell_type": "code",
   "execution_count": null,
   "id": "da63e694-cd89-44d1-9af1-46ee3094c1af",
   "metadata": {},
   "outputs": [],
   "source": [
    "### Sahpiro ve Levene Testi \n",
    "### p > 0.05 H0 Reddedilir ve veriler normal dağılmaktadır.\n",
    "### T-testine geçtiğimzde ise p < 0.05 ve test statistic -9.2545 olması;\n",
    "### Max biding Earning'de Av biding'e göre daha iyi performans göstermektedir. "
   ]
  }
 ],
 "metadata": {
  "kernelspec": {
   "display_name": "Python [conda env:base] *",
   "language": "python",
   "name": "conda-base-py"
  },
  "language_info": {
   "codemirror_mode": {
    "name": "ipython",
    "version": 3
   },
   "file_extension": ".py",
   "mimetype": "text/x-python",
   "name": "python",
   "nbconvert_exporter": "python",
   "pygments_lexer": "ipython3",
   "version": "3.12.7"
  }
 },
 "nbformat": 4,
 "nbformat_minor": 5
}
